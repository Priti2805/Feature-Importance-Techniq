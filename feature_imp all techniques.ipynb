{
 "cells": [
  {
   "cell_type": "code",
   "execution_count": 121,
   "id": "c2b673d5",
   "metadata": {},
   "outputs": [],
   "source": [
    "import pandas as pd\n",
    "import numpy as np\n"
   ]
  },
  {
   "cell_type": "code",
   "execution_count": 122,
   "id": "312bcc29",
   "metadata": {},
   "outputs": [],
   "source": [
    "cr=pd.read_csv(\"D:\\data set\\CreditRisk.csv\")"
   ]
  },
  {
   "cell_type": "code",
   "execution_count": 123,
   "id": "214316f3",
   "metadata": {},
   "outputs": [],
   "source": [
    "cr.Gender = cr.Gender.fillna('Male')\n",
    "cr.Married.fillna('Yes' , inplace = True)\n",
    "cr.Dependents = cr.Dependents.fillna(0)\n",
    "cr.Self_Employed = cr.Self_Employed.fillna('No')\n",
    "cr.LoanAmount = cr.LoanAmount.fillna( cr.LoanAmount.mean() )\n",
    "cr.Loan_Amount_Term.fillna(cr.Loan_Amount_Term.mean() , inplace = True )\n",
    "cr.Credit_History= cr.Credit_History.fillna(0)"
   ]
  },
  {
   "cell_type": "code",
   "execution_count": 124,
   "id": "209123b4",
   "metadata": {},
   "outputs": [],
   "source": [
    "cr = cr.drop(['Loan_ID'], axis = 1)"
   ]
  },
  {
   "cell_type": "code",
   "execution_count": 125,
   "id": "90989957",
   "metadata": {},
   "outputs": [],
   "source": [
    "cr.Gender = cr.Gender.replace( {'Male': 1 , 'Female' : 0 })\n",
    "cr.Married.replace({'Yes':1 ,'No': 0} , inplace = True)\n",
    "cr.Self_Employed.replace({'Yes':1 ,'No': 0} , inplace = True)\n",
    "cr.Education.replace({'Graduate':1 , 'Not Graduate': 0} , inplace = True)\n",
    "cr.Property_Area.replace({'Semiurban':0 , 'Urban': 1 ,'Rural' :2} , inplace = True)\n"
   ]
  },
  {
   "cell_type": "code",
   "execution_count": 126,
   "id": "d0aba11f",
   "metadata": {},
   "outputs": [],
   "source": [
    "from sklearn.model_selection import train_test_split"
   ]
  },
  {
   "cell_type": "code",
   "execution_count": null,
   "id": "f4dba324",
   "metadata": {},
   "outputs": [],
   "source": []
  },
  {
   "cell_type": "markdown",
   "id": "b87dc5b0",
   "metadata": {},
   "source": [
    "# boruta"
   ]
  },
  {
   "cell_type": "code",
   "execution_count": 127,
   "id": "bc3c21de",
   "metadata": {},
   "outputs": [],
   "source": [
    "from boruta import BorutaPy\n",
    "from sklearn.ensemble import RandomForestClassifier\n",
    "rfc=RandomForestClassifier()"
   ]
  },
  {
   "cell_type": "code",
   "execution_count": 128,
   "id": "96de6b10",
   "metadata": {},
   "outputs": [],
   "source": [
    "cr1=cr"
   ]
  },
  {
   "cell_type": "code",
   "execution_count": 129,
   "id": "408b3df8",
   "metadata": {},
   "outputs": [],
   "source": [
    "cr_x=cr.iloc[:,0:-1]\n",
    "cr_y=cr.iloc[:,-1]"
   ]
  },
  {
   "cell_type": "code",
   "execution_count": 130,
   "id": "f8b21859",
   "metadata": {},
   "outputs": [],
   "source": [
    "cr_x=np.array(cr_x)\n",
    "cr_y=np.array(cr_y)"
   ]
  },
  {
   "cell_type": "code",
   "execution_count": 135,
   "id": "81ab810c",
   "metadata": {},
   "outputs": [],
   "source": [
    "borutapy_feature_selection=BorutaPy(rfc,verbose=2,max_iter=60)"
   ]
  },
  {
   "cell_type": "code",
   "execution_count": 136,
   "id": "b8c7bada",
   "metadata": {},
   "outputs": [
    {
     "name": "stdout",
     "output_type": "stream",
     "text": [
      "Iteration: \t1 / 60\n",
      "Confirmed: \t0\n",
      "Tentative: \t11\n",
      "Rejected: \t0\n",
      "Iteration: \t2 / 60\n",
      "Confirmed: \t0\n",
      "Tentative: \t11\n",
      "Rejected: \t0\n",
      "Iteration: \t3 / 60\n",
      "Confirmed: \t0\n",
      "Tentative: \t11\n",
      "Rejected: \t0\n",
      "Iteration: \t4 / 60\n",
      "Confirmed: \t0\n",
      "Tentative: \t11\n",
      "Rejected: \t0\n",
      "Iteration: \t5 / 60\n",
      "Confirmed: \t0\n",
      "Tentative: \t11\n",
      "Rejected: \t0\n",
      "Iteration: \t6 / 60\n",
      "Confirmed: \t0\n",
      "Tentative: \t11\n",
      "Rejected: \t0\n",
      "Iteration: \t7 / 60\n",
      "Confirmed: \t0\n",
      "Tentative: \t11\n",
      "Rejected: \t0\n",
      "Iteration: \t8 / 60\n",
      "Confirmed: \t2\n",
      "Tentative: \t1\n",
      "Rejected: \t8\n",
      "Iteration: \t9 / 60\n",
      "Confirmed: \t2\n",
      "Tentative: \t1\n",
      "Rejected: \t8\n",
      "Iteration: \t10 / 60\n",
      "Confirmed: \t2\n",
      "Tentative: \t1\n",
      "Rejected: \t8\n",
      "Iteration: \t11 / 60\n",
      "Confirmed: \t2\n",
      "Tentative: \t1\n",
      "Rejected: \t8\n",
      "Iteration: \t12 / 60\n",
      "Confirmed: \t2\n",
      "Tentative: \t1\n",
      "Rejected: \t8\n",
      "Iteration: \t13 / 60\n",
      "Confirmed: \t2\n",
      "Tentative: \t1\n",
      "Rejected: \t8\n",
      "Iteration: \t14 / 60\n",
      "Confirmed: \t2\n",
      "Tentative: \t1\n",
      "Rejected: \t8\n",
      "Iteration: \t15 / 60\n",
      "Confirmed: \t2\n",
      "Tentative: \t1\n",
      "Rejected: \t8\n",
      "Iteration: \t16 / 60\n",
      "Confirmed: \t2\n",
      "Tentative: \t1\n",
      "Rejected: \t8\n",
      "Iteration: \t17 / 60\n",
      "Confirmed: \t2\n",
      "Tentative: \t1\n",
      "Rejected: \t8\n",
      "Iteration: \t18 / 60\n",
      "Confirmed: \t2\n",
      "Tentative: \t1\n",
      "Rejected: \t8\n",
      "Iteration: \t19 / 60\n",
      "Confirmed: \t2\n",
      "Tentative: \t1\n",
      "Rejected: \t8\n",
      "Iteration: \t20 / 60\n",
      "Confirmed: \t2\n",
      "Tentative: \t1\n",
      "Rejected: \t8\n",
      "Iteration: \t21 / 60\n",
      "Confirmed: \t2\n",
      "Tentative: \t1\n",
      "Rejected: \t8\n",
      "Iteration: \t22 / 60\n",
      "Confirmed: \t2\n",
      "Tentative: \t1\n",
      "Rejected: \t8\n",
      "Iteration: \t23 / 60\n",
      "Confirmed: \t2\n",
      "Tentative: \t1\n",
      "Rejected: \t8\n",
      "Iteration: \t24 / 60\n",
      "Confirmed: \t2\n",
      "Tentative: \t1\n",
      "Rejected: \t8\n",
      "Iteration: \t25 / 60\n",
      "Confirmed: \t2\n",
      "Tentative: \t1\n",
      "Rejected: \t8\n",
      "Iteration: \t26 / 60\n",
      "Confirmed: \t2\n",
      "Tentative: \t1\n",
      "Rejected: \t8\n",
      "Iteration: \t27 / 60\n",
      "Confirmed: \t2\n",
      "Tentative: \t1\n",
      "Rejected: \t8\n",
      "Iteration: \t28 / 60\n",
      "Confirmed: \t2\n",
      "Tentative: \t1\n",
      "Rejected: \t8\n",
      "Iteration: \t29 / 60\n",
      "Confirmed: \t2\n",
      "Tentative: \t1\n",
      "Rejected: \t8\n",
      "Iteration: \t30 / 60\n",
      "Confirmed: \t2\n",
      "Tentative: \t1\n",
      "Rejected: \t8\n",
      "Iteration: \t31 / 60\n",
      "Confirmed: \t2\n",
      "Tentative: \t1\n",
      "Rejected: \t8\n",
      "Iteration: \t32 / 60\n",
      "Confirmed: \t2\n",
      "Tentative: \t1\n",
      "Rejected: \t8\n",
      "Iteration: \t33 / 60\n",
      "Confirmed: \t2\n",
      "Tentative: \t1\n",
      "Rejected: \t8\n",
      "Iteration: \t34 / 60\n",
      "Confirmed: \t2\n",
      "Tentative: \t1\n",
      "Rejected: \t8\n",
      "Iteration: \t35 / 60\n",
      "Confirmed: \t2\n",
      "Tentative: \t1\n",
      "Rejected: \t8\n",
      "Iteration: \t36 / 60\n",
      "Confirmed: \t2\n",
      "Tentative: \t1\n",
      "Rejected: \t8\n",
      "Iteration: \t37 / 60\n",
      "Confirmed: \t2\n",
      "Tentative: \t1\n",
      "Rejected: \t8\n",
      "Iteration: \t38 / 60\n",
      "Confirmed: \t2\n",
      "Tentative: \t1\n",
      "Rejected: \t8\n",
      "Iteration: \t39 / 60\n",
      "Confirmed: \t2\n",
      "Tentative: \t1\n",
      "Rejected: \t8\n",
      "Iteration: \t40 / 60\n",
      "Confirmed: \t2\n",
      "Tentative: \t1\n",
      "Rejected: \t8\n",
      "Iteration: \t41 / 60\n",
      "Confirmed: \t2\n",
      "Tentative: \t1\n",
      "Rejected: \t8\n",
      "Iteration: \t42 / 60\n",
      "Confirmed: \t2\n",
      "Tentative: \t1\n",
      "Rejected: \t8\n",
      "Iteration: \t43 / 60\n",
      "Confirmed: \t2\n",
      "Tentative: \t1\n",
      "Rejected: \t8\n",
      "Iteration: \t44 / 60\n",
      "Confirmed: \t2\n",
      "Tentative: \t1\n",
      "Rejected: \t8\n",
      "Iteration: \t45 / 60\n",
      "Confirmed: \t2\n",
      "Tentative: \t1\n",
      "Rejected: \t8\n",
      "Iteration: \t46 / 60\n",
      "Confirmed: \t2\n",
      "Tentative: \t1\n",
      "Rejected: \t8\n",
      "Iteration: \t47 / 60\n",
      "Confirmed: \t2\n",
      "Tentative: \t1\n",
      "Rejected: \t8\n",
      "Iteration: \t48 / 60\n",
      "Confirmed: \t2\n",
      "Tentative: \t1\n",
      "Rejected: \t8\n",
      "Iteration: \t49 / 60\n",
      "Confirmed: \t2\n",
      "Tentative: \t1\n",
      "Rejected: \t8\n",
      "Iteration: \t50 / 60\n",
      "Confirmed: \t2\n",
      "Tentative: \t1\n",
      "Rejected: \t8\n",
      "Iteration: \t51 / 60\n",
      "Confirmed: \t2\n",
      "Tentative: \t1\n",
      "Rejected: \t8\n",
      "Iteration: \t52 / 60\n",
      "Confirmed: \t2\n",
      "Tentative: \t1\n",
      "Rejected: \t8\n",
      "Iteration: \t53 / 60\n",
      "Confirmed: \t2\n",
      "Tentative: \t1\n",
      "Rejected: \t8\n",
      "Iteration: \t54 / 60\n",
      "Confirmed: \t2\n",
      "Tentative: \t1\n",
      "Rejected: \t8\n",
      "Iteration: \t55 / 60\n",
      "Confirmed: \t2\n",
      "Tentative: \t1\n",
      "Rejected: \t8\n",
      "Iteration: \t56 / 60\n",
      "Confirmed: \t2\n",
      "Tentative: \t1\n",
      "Rejected: \t8\n",
      "Iteration: \t57 / 60\n",
      "Confirmed: \t2\n",
      "Tentative: \t1\n",
      "Rejected: \t8\n",
      "Iteration: \t58 / 60\n",
      "Confirmed: \t2\n",
      "Tentative: \t1\n",
      "Rejected: \t8\n",
      "Iteration: \t59 / 60\n",
      "Confirmed: \t2\n",
      "Tentative: \t1\n",
      "Rejected: \t8\n",
      "\n",
      "\n",
      "BorutaPy finished running.\n",
      "\n",
      "Iteration: \t60 / 60\n",
      "Confirmed: \t2\n",
      "Tentative: \t0\n",
      "Rejected: \t8\n"
     ]
    },
    {
     "data": {
      "text/plain": [
       "BorutaPy(estimator=RandomForestClassifier(n_estimators=1000,\n",
       "                                          random_state=RandomState(MT19937) at 0x2A567440440),\n",
       "         max_iter=60, random_state=RandomState(MT19937) at 0x2A567440440,\n",
       "         verbose=2)"
      ]
     },
     "execution_count": 136,
     "metadata": {},
     "output_type": "execute_result"
    }
   ],
   "source": [
    "borutapy_feature_selection.fit(cr_x,cr_y)"
   ]
  },
  {
   "cell_type": "code",
   "execution_count": 137,
   "id": "1932cb1f",
   "metadata": {},
   "outputs": [],
   "source": [
    "dfx=cr1.iloc[:,0:-1]"
   ]
  },
  {
   "cell_type": "code",
   "execution_count": 138,
   "id": "e2314a3e",
   "metadata": {},
   "outputs": [
    {
     "data": {
      "text/html": [
       "<div>\n",
       "<style scoped>\n",
       "    .dataframe tbody tr th:only-of-type {\n",
       "        vertical-align: middle;\n",
       "    }\n",
       "\n",
       "    .dataframe tbody tr th {\n",
       "        vertical-align: top;\n",
       "    }\n",
       "\n",
       "    .dataframe thead th {\n",
       "        text-align: right;\n",
       "    }\n",
       "</style>\n",
       "<table border=\"1\" class=\"dataframe\">\n",
       "  <thead>\n",
       "    <tr style=\"text-align: right;\">\n",
       "      <th></th>\n",
       "      <th>column_name</th>\n",
       "      <th>feature_imp</th>\n",
       "    </tr>\n",
       "  </thead>\n",
       "  <tbody>\n",
       "    <tr>\n",
       "      <th>5</th>\n",
       "      <td>ApplicantIncome</td>\n",
       "      <td>True</td>\n",
       "    </tr>\n",
       "    <tr>\n",
       "      <th>9</th>\n",
       "      <td>Credit_History</td>\n",
       "      <td>True</td>\n",
       "    </tr>\n",
       "    <tr>\n",
       "      <th>0</th>\n",
       "      <td>Gender</td>\n",
       "      <td>False</td>\n",
       "    </tr>\n",
       "    <tr>\n",
       "      <th>1</th>\n",
       "      <td>Married</td>\n",
       "      <td>False</td>\n",
       "    </tr>\n",
       "    <tr>\n",
       "      <th>2</th>\n",
       "      <td>Dependents</td>\n",
       "      <td>False</td>\n",
       "    </tr>\n",
       "    <tr>\n",
       "      <th>3</th>\n",
       "      <td>Education</td>\n",
       "      <td>False</td>\n",
       "    </tr>\n",
       "    <tr>\n",
       "      <th>4</th>\n",
       "      <td>Self_Employed</td>\n",
       "      <td>False</td>\n",
       "    </tr>\n",
       "    <tr>\n",
       "      <th>6</th>\n",
       "      <td>CoapplicantIncome</td>\n",
       "      <td>False</td>\n",
       "    </tr>\n",
       "    <tr>\n",
       "      <th>7</th>\n",
       "      <td>LoanAmount</td>\n",
       "      <td>False</td>\n",
       "    </tr>\n",
       "    <tr>\n",
       "      <th>8</th>\n",
       "      <td>Loan_Amount_Term</td>\n",
       "      <td>False</td>\n",
       "    </tr>\n",
       "    <tr>\n",
       "      <th>10</th>\n",
       "      <td>Property_Area</td>\n",
       "      <td>False</td>\n",
       "    </tr>\n",
       "  </tbody>\n",
       "</table>\n",
       "</div>"
      ],
      "text/plain": [
       "          column_name  feature_imp\n",
       "5     ApplicantIncome         True\n",
       "9      Credit_History         True\n",
       "0              Gender        False\n",
       "1             Married        False\n",
       "2          Dependents        False\n",
       "3           Education        False\n",
       "4       Self_Employed        False\n",
       "6   CoapplicantIncome        False\n",
       "7          LoanAmount        False\n",
       "8    Loan_Amount_Term        False\n",
       "10      Property_Area        False"
      ]
     },
     "execution_count": 138,
     "metadata": {},
     "output_type": "execute_result"
    }
   ],
   "source": [
    "feature_imp=pd.DataFrame({'column_name':dfx.columns,'feature_imp':borutapy_feature_selection.support_})\n",
    "feature_imp.sort_values('feature_imp',ascending=False)"
   ]
  },
  {
   "cell_type": "markdown",
   "id": "07338752",
   "metadata": {},
   "source": [
    "# dt"
   ]
  },
  {
   "cell_type": "code",
   "execution_count": 139,
   "id": "56549dfc",
   "metadata": {},
   "outputs": [],
   "source": [
    "cr_x_train,cr_x_test,cr_y_train,cr_y_test=train_test_split(cr_x,cr_y,test_size=0.20)"
   ]
  },
  {
   "cell_type": "code",
   "execution_count": 140,
   "id": "c61a0096",
   "metadata": {},
   "outputs": [],
   "source": [
    "from sklearn.tree import DecisionTreeClassifier\n",
    "dt=DecisionTreeClassifier(class_weight='balanced',criterion='entropy')"
   ]
  },
  {
   "cell_type": "code",
   "execution_count": 141,
   "id": "072e52d3",
   "metadata": {},
   "outputs": [
    {
     "data": {
      "text/plain": [
       "DecisionTreeClassifier(class_weight='balanced', criterion='entropy')"
      ]
     },
     "execution_count": 141,
     "metadata": {},
     "output_type": "execute_result"
    }
   ],
   "source": [
    "dt.fit(cr_x_train,cr_y_train)"
   ]
  },
  {
   "cell_type": "code",
   "execution_count": 142,
   "id": "2d56db16",
   "metadata": {},
   "outputs": [],
   "source": [
    "from sklearn.metrics import *"
   ]
  },
  {
   "cell_type": "code",
   "execution_count": 143,
   "id": "5bbe4c42",
   "metadata": {},
   "outputs": [],
   "source": [
    "pred_dt=dt.predict(cr_x_test)"
   ]
  },
  {
   "cell_type": "code",
   "execution_count": 144,
   "id": "7496440b",
   "metadata": {},
   "outputs": [
    {
     "data": {
      "text/plain": [
       "array([[ 32,  22],\n",
       "       [ 24, 119]], dtype=int64)"
      ]
     },
     "execution_count": 144,
     "metadata": {},
     "output_type": "execute_result"
    }
   ],
   "source": [
    "tab_dt=confusion_matrix(cr_y_test,pred_dt)\n",
    "tab_dt"
   ]
  },
  {
   "cell_type": "code",
   "execution_count": 145,
   "id": "76dda333",
   "metadata": {},
   "outputs": [
    {
     "data": {
      "text/plain": [
       "0.766497461928934"
      ]
     },
     "execution_count": 145,
     "metadata": {},
     "output_type": "execute_result"
    }
   ],
   "source": [
    "accuracy_score(cr_y_test,pred_dt)"
   ]
  },
  {
   "cell_type": "code",
   "execution_count": 146,
   "id": "23d4a9da",
   "metadata": {},
   "outputs": [
    {
     "data": {
      "text/plain": [
       "array([0.01917519, 0.02432134, 0.03832179, 0.01579047, 0.01761143,\n",
       "       0.24021125, 0.13682662, 0.22278222, 0.01888565, 0.20238767,\n",
       "       0.06368637])"
      ]
     },
     "execution_count": 146,
     "metadata": {},
     "output_type": "execute_result"
    }
   ],
   "source": [
    "dt.feature_importances_"
   ]
  },
  {
   "cell_type": "code",
   "execution_count": 149,
   "id": "383619f1",
   "metadata": {},
   "outputs": [
    {
     "data": {
      "text/html": [
       "<div>\n",
       "<style scoped>\n",
       "    .dataframe tbody tr th:only-of-type {\n",
       "        vertical-align: middle;\n",
       "    }\n",
       "\n",
       "    .dataframe tbody tr th {\n",
       "        vertical-align: top;\n",
       "    }\n",
       "\n",
       "    .dataframe thead th {\n",
       "        text-align: right;\n",
       "    }\n",
       "</style>\n",
       "<table border=\"1\" class=\"dataframe\">\n",
       "  <thead>\n",
       "    <tr style=\"text-align: right;\">\n",
       "      <th></th>\n",
       "      <th>column_name</th>\n",
       "      <th>feature_imp</th>\n",
       "    </tr>\n",
       "  </thead>\n",
       "  <tbody>\n",
       "    <tr>\n",
       "      <th>5</th>\n",
       "      <td>ApplicantIncome</td>\n",
       "      <td>0.240211</td>\n",
       "    </tr>\n",
       "    <tr>\n",
       "      <th>7</th>\n",
       "      <td>LoanAmount</td>\n",
       "      <td>0.222782</td>\n",
       "    </tr>\n",
       "    <tr>\n",
       "      <th>9</th>\n",
       "      <td>Credit_History</td>\n",
       "      <td>0.202388</td>\n",
       "    </tr>\n",
       "    <tr>\n",
       "      <th>6</th>\n",
       "      <td>CoapplicantIncome</td>\n",
       "      <td>0.136827</td>\n",
       "    </tr>\n",
       "    <tr>\n",
       "      <th>10</th>\n",
       "      <td>Property_Area</td>\n",
       "      <td>0.063686</td>\n",
       "    </tr>\n",
       "    <tr>\n",
       "      <th>2</th>\n",
       "      <td>Dependents</td>\n",
       "      <td>0.038322</td>\n",
       "    </tr>\n",
       "    <tr>\n",
       "      <th>1</th>\n",
       "      <td>Married</td>\n",
       "      <td>0.024321</td>\n",
       "    </tr>\n",
       "    <tr>\n",
       "      <th>0</th>\n",
       "      <td>Gender</td>\n",
       "      <td>0.019175</td>\n",
       "    </tr>\n",
       "    <tr>\n",
       "      <th>8</th>\n",
       "      <td>Loan_Amount_Term</td>\n",
       "      <td>0.018886</td>\n",
       "    </tr>\n",
       "    <tr>\n",
       "      <th>4</th>\n",
       "      <td>Self_Employed</td>\n",
       "      <td>0.017611</td>\n",
       "    </tr>\n",
       "    <tr>\n",
       "      <th>3</th>\n",
       "      <td>Education</td>\n",
       "      <td>0.015790</td>\n",
       "    </tr>\n",
       "  </tbody>\n",
       "</table>\n",
       "</div>"
      ],
      "text/plain": [
       "          column_name  feature_imp\n",
       "5     ApplicantIncome     0.240211\n",
       "7          LoanAmount     0.222782\n",
       "9      Credit_History     0.202388\n",
       "6   CoapplicantIncome     0.136827\n",
       "10      Property_Area     0.063686\n",
       "2          Dependents     0.038322\n",
       "1             Married     0.024321\n",
       "0              Gender     0.019175\n",
       "8    Loan_Amount_Term     0.018886\n",
       "4       Self_Employed     0.017611\n",
       "3           Education     0.015790"
      ]
     },
     "execution_count": 149,
     "metadata": {},
     "output_type": "execute_result"
    }
   ],
   "source": [
    "df=pd.DataFrame({'column_name':dfx.columns,'feature_imp':dt.feature_importances_})\n",
    "df.sort_values('feature_imp',ascending=False)"
   ]
  },
  {
   "cell_type": "markdown",
   "id": "5629ae7b",
   "metadata": {},
   "source": [
    "# RFC"
   ]
  },
  {
   "cell_type": "code",
   "execution_count": 150,
   "id": "e9f0f482",
   "metadata": {},
   "outputs": [],
   "source": [
    "from sklearn.ensemble import RandomForestClassifier\n",
    "rfc=RandomForestClassifier()"
   ]
  },
  {
   "cell_type": "code",
   "execution_count": 151,
   "id": "7f33e9e5",
   "metadata": {},
   "outputs": [
    {
     "data": {
      "text/plain": [
       "RandomForestClassifier()"
      ]
     },
     "execution_count": 151,
     "metadata": {},
     "output_type": "execute_result"
    }
   ],
   "source": [
    "rfc.fit(cr_x_train,cr_y_train)"
   ]
  },
  {
   "cell_type": "code",
   "execution_count": 152,
   "id": "9714e771",
   "metadata": {},
   "outputs": [],
   "source": [
    "pred_rfc=rfc.predict(cr_x_test)"
   ]
  },
  {
   "cell_type": "code",
   "execution_count": 153,
   "id": "41a2ed67",
   "metadata": {},
   "outputs": [
    {
     "data": {
      "text/plain": [
       "array([[ 31,  23],\n",
       "       [ 20, 123]], dtype=int64)"
      ]
     },
     "execution_count": 153,
     "metadata": {},
     "output_type": "execute_result"
    }
   ],
   "source": [
    "confusion_matrix(cr_y_test,pred_rfc)"
   ]
  },
  {
   "cell_type": "code",
   "execution_count": 154,
   "id": "a7a63b1a",
   "metadata": {},
   "outputs": [
    {
     "data": {
      "text/plain": [
       "array([0.0189598 , 0.02524407, 0.04735298, 0.02166231, 0.01785941,\n",
       "       0.21399768, 0.11644067, 0.20676894, 0.04613086, 0.23797346,\n",
       "       0.04760982])"
      ]
     },
     "execution_count": 154,
     "metadata": {},
     "output_type": "execute_result"
    }
   ],
   "source": [
    "rfc.feature_importances_"
   ]
  },
  {
   "cell_type": "code",
   "execution_count": 157,
   "id": "a5250c2e",
   "metadata": {},
   "outputs": [
    {
     "data": {
      "text/html": [
       "<div>\n",
       "<style scoped>\n",
       "    .dataframe tbody tr th:only-of-type {\n",
       "        vertical-align: middle;\n",
       "    }\n",
       "\n",
       "    .dataframe tbody tr th {\n",
       "        vertical-align: top;\n",
       "    }\n",
       "\n",
       "    .dataframe thead th {\n",
       "        text-align: right;\n",
       "    }\n",
       "</style>\n",
       "<table border=\"1\" class=\"dataframe\">\n",
       "  <thead>\n",
       "    <tr style=\"text-align: right;\">\n",
       "      <th></th>\n",
       "      <th>column_name</th>\n",
       "      <th>feature_imp_rfc</th>\n",
       "    </tr>\n",
       "  </thead>\n",
       "  <tbody>\n",
       "    <tr>\n",
       "      <th>9</th>\n",
       "      <td>Credit_History</td>\n",
       "      <td>0.237973</td>\n",
       "    </tr>\n",
       "    <tr>\n",
       "      <th>5</th>\n",
       "      <td>ApplicantIncome</td>\n",
       "      <td>0.213998</td>\n",
       "    </tr>\n",
       "    <tr>\n",
       "      <th>7</th>\n",
       "      <td>LoanAmount</td>\n",
       "      <td>0.206769</td>\n",
       "    </tr>\n",
       "    <tr>\n",
       "      <th>6</th>\n",
       "      <td>CoapplicantIncome</td>\n",
       "      <td>0.116441</td>\n",
       "    </tr>\n",
       "    <tr>\n",
       "      <th>10</th>\n",
       "      <td>Property_Area</td>\n",
       "      <td>0.047610</td>\n",
       "    </tr>\n",
       "    <tr>\n",
       "      <th>2</th>\n",
       "      <td>Dependents</td>\n",
       "      <td>0.047353</td>\n",
       "    </tr>\n",
       "    <tr>\n",
       "      <th>8</th>\n",
       "      <td>Loan_Amount_Term</td>\n",
       "      <td>0.046131</td>\n",
       "    </tr>\n",
       "    <tr>\n",
       "      <th>1</th>\n",
       "      <td>Married</td>\n",
       "      <td>0.025244</td>\n",
       "    </tr>\n",
       "    <tr>\n",
       "      <th>3</th>\n",
       "      <td>Education</td>\n",
       "      <td>0.021662</td>\n",
       "    </tr>\n",
       "    <tr>\n",
       "      <th>0</th>\n",
       "      <td>Gender</td>\n",
       "      <td>0.018960</td>\n",
       "    </tr>\n",
       "    <tr>\n",
       "      <th>4</th>\n",
       "      <td>Self_Employed</td>\n",
       "      <td>0.017859</td>\n",
       "    </tr>\n",
       "  </tbody>\n",
       "</table>\n",
       "</div>"
      ],
      "text/plain": [
       "          column_name  feature_imp_rfc\n",
       "9      Credit_History         0.237973\n",
       "5     ApplicantIncome         0.213998\n",
       "7          LoanAmount         0.206769\n",
       "6   CoapplicantIncome         0.116441\n",
       "10      Property_Area         0.047610\n",
       "2          Dependents         0.047353\n",
       "8    Loan_Amount_Term         0.046131\n",
       "1             Married         0.025244\n",
       "3           Education         0.021662\n",
       "0              Gender         0.018960\n",
       "4       Self_Employed         0.017859"
      ]
     },
     "execution_count": 157,
     "metadata": {},
     "output_type": "execute_result"
    }
   ],
   "source": [
    "df2=pd.DataFrame({'column_name':dfx.columns,'feature_imp_rfc':rfc.feature_importances_})\n",
    "df2.sort_values('feature_imp_rfc',ascending=False)\n"
   ]
  },
  {
   "cell_type": "markdown",
   "id": "d3f438e0",
   "metadata": {},
   "source": [
    "# BOOSTING"
   ]
  },
  {
   "cell_type": "code",
   "execution_count": 158,
   "id": "4a7c8131",
   "metadata": {},
   "outputs": [],
   "source": [
    "from sklearn.ensemble import AdaBoostClassifier\n",
    "adb=AdaBoostClassifier()"
   ]
  },
  {
   "cell_type": "code",
   "execution_count": 159,
   "id": "b797e465",
   "metadata": {},
   "outputs": [
    {
     "data": {
      "text/plain": [
       "AdaBoostClassifier()"
      ]
     },
     "execution_count": 159,
     "metadata": {},
     "output_type": "execute_result"
    }
   ],
   "source": [
    "adb.fit(cr_x_train,cr_y_train)"
   ]
  },
  {
   "cell_type": "code",
   "execution_count": 160,
   "id": "96e185ad",
   "metadata": {},
   "outputs": [],
   "source": [
    "pred_adb=adb.predict(cr_x_test)"
   ]
  },
  {
   "cell_type": "code",
   "execution_count": 161,
   "id": "026d9a7a",
   "metadata": {},
   "outputs": [
    {
     "data": {
      "text/plain": [
       "array([0.  , 0.02, 0.02, 0.02, 0.  , 0.4 , 0.14, 0.28, 0.04, 0.04, 0.04])"
      ]
     },
     "execution_count": 161,
     "metadata": {},
     "output_type": "execute_result"
    }
   ],
   "source": [
    "adb.feature_importances_"
   ]
  },
  {
   "cell_type": "code",
   "execution_count": 163,
   "id": "290766db",
   "metadata": {},
   "outputs": [
    {
     "data": {
      "text/html": [
       "<div>\n",
       "<style scoped>\n",
       "    .dataframe tbody tr th:only-of-type {\n",
       "        vertical-align: middle;\n",
       "    }\n",
       "\n",
       "    .dataframe tbody tr th {\n",
       "        vertical-align: top;\n",
       "    }\n",
       "\n",
       "    .dataframe thead th {\n",
       "        text-align: right;\n",
       "    }\n",
       "</style>\n",
       "<table border=\"1\" class=\"dataframe\">\n",
       "  <thead>\n",
       "    <tr style=\"text-align: right;\">\n",
       "      <th></th>\n",
       "      <th>column name</th>\n",
       "      <th>feature imp adb</th>\n",
       "    </tr>\n",
       "  </thead>\n",
       "  <tbody>\n",
       "    <tr>\n",
       "      <th>5</th>\n",
       "      <td>ApplicantIncome</td>\n",
       "      <td>0.40</td>\n",
       "    </tr>\n",
       "    <tr>\n",
       "      <th>7</th>\n",
       "      <td>LoanAmount</td>\n",
       "      <td>0.28</td>\n",
       "    </tr>\n",
       "    <tr>\n",
       "      <th>6</th>\n",
       "      <td>CoapplicantIncome</td>\n",
       "      <td>0.14</td>\n",
       "    </tr>\n",
       "    <tr>\n",
       "      <th>8</th>\n",
       "      <td>Loan_Amount_Term</td>\n",
       "      <td>0.04</td>\n",
       "    </tr>\n",
       "    <tr>\n",
       "      <th>9</th>\n",
       "      <td>Credit_History</td>\n",
       "      <td>0.04</td>\n",
       "    </tr>\n",
       "    <tr>\n",
       "      <th>10</th>\n",
       "      <td>Property_Area</td>\n",
       "      <td>0.04</td>\n",
       "    </tr>\n",
       "    <tr>\n",
       "      <th>1</th>\n",
       "      <td>Married</td>\n",
       "      <td>0.02</td>\n",
       "    </tr>\n",
       "    <tr>\n",
       "      <th>2</th>\n",
       "      <td>Dependents</td>\n",
       "      <td>0.02</td>\n",
       "    </tr>\n",
       "    <tr>\n",
       "      <th>3</th>\n",
       "      <td>Education</td>\n",
       "      <td>0.02</td>\n",
       "    </tr>\n",
       "    <tr>\n",
       "      <th>0</th>\n",
       "      <td>Gender</td>\n",
       "      <td>0.00</td>\n",
       "    </tr>\n",
       "    <tr>\n",
       "      <th>4</th>\n",
       "      <td>Self_Employed</td>\n",
       "      <td>0.00</td>\n",
       "    </tr>\n",
       "  </tbody>\n",
       "</table>\n",
       "</div>"
      ],
      "text/plain": [
       "          column name  feature imp adb\n",
       "5     ApplicantIncome             0.40\n",
       "7          LoanAmount             0.28\n",
       "6   CoapplicantIncome             0.14\n",
       "8    Loan_Amount_Term             0.04\n",
       "9      Credit_History             0.04\n",
       "10      Property_Area             0.04\n",
       "1             Married             0.02\n",
       "2          Dependents             0.02\n",
       "3           Education             0.02\n",
       "0              Gender             0.00\n",
       "4       Self_Employed             0.00"
      ]
     },
     "execution_count": 163,
     "metadata": {},
     "output_type": "execute_result"
    }
   ],
   "source": [
    "df1=pd.DataFrame({'column name':dfx.columns,'feature imp adb':adb.feature_importances_})\n",
    "df1.sort_values('feature imp adb',ascending=False)"
   ]
  },
  {
   "cell_type": "markdown",
   "id": "2cd8e91a",
   "metadata": {},
   "source": [
    "# RFE"
   ]
  },
  {
   "cell_type": "code",
   "execution_count": 164,
   "id": "2b03fcc0",
   "metadata": {},
   "outputs": [
    {
     "name": "stderr",
     "output_type": "stream",
     "text": [
      "C:\\Users\\Priti\\anaconda3\\lib\\site-packages\\sklearn\\utils\\validation.py:70: FutureWarning: Pass n_features_to_select=5 as keyword args. From version 1.0 (renaming of 0.25) passing these as positional arguments will result in an error\n",
      "  warnings.warn(f\"Pass {args_msg} as keyword args. From version \"\n"
     ]
    }
   ],
   "source": [
    "from sklearn.feature_selection import RFE\n",
    "rfe=RFE(adb,5)"
   ]
  },
  {
   "cell_type": "code",
   "execution_count": 165,
   "id": "21994c28",
   "metadata": {},
   "outputs": [
    {
     "data": {
      "text/plain": [
       "RFE(estimator=AdaBoostClassifier(), n_features_to_select=5)"
      ]
     },
     "execution_count": 165,
     "metadata": {},
     "output_type": "execute_result"
    }
   ],
   "source": [
    "rfe.fit(cr_x,cr_y)"
   ]
  },
  {
   "cell_type": "code",
   "execution_count": 166,
   "id": "48ee2e75",
   "metadata": {},
   "outputs": [
    {
     "data": {
      "text/html": [
       "<div>\n",
       "<style scoped>\n",
       "    .dataframe tbody tr th:only-of-type {\n",
       "        vertical-align: middle;\n",
       "    }\n",
       "\n",
       "    .dataframe tbody tr th {\n",
       "        vertical-align: top;\n",
       "    }\n",
       "\n",
       "    .dataframe thead th {\n",
       "        text-align: right;\n",
       "    }\n",
       "</style>\n",
       "<table border=\"1\" class=\"dataframe\">\n",
       "  <thead>\n",
       "    <tr style=\"text-align: right;\">\n",
       "      <th></th>\n",
       "      <th>column name</th>\n",
       "      <th>feature_imp_rfe</th>\n",
       "    </tr>\n",
       "  </thead>\n",
       "  <tbody>\n",
       "    <tr>\n",
       "      <th>5</th>\n",
       "      <td>ApplicantIncome</td>\n",
       "      <td>True</td>\n",
       "    </tr>\n",
       "    <tr>\n",
       "      <th>6</th>\n",
       "      <td>CoapplicantIncome</td>\n",
       "      <td>True</td>\n",
       "    </tr>\n",
       "    <tr>\n",
       "      <th>7</th>\n",
       "      <td>LoanAmount</td>\n",
       "      <td>True</td>\n",
       "    </tr>\n",
       "    <tr>\n",
       "      <th>8</th>\n",
       "      <td>Loan_Amount_Term</td>\n",
       "      <td>True</td>\n",
       "    </tr>\n",
       "    <tr>\n",
       "      <th>10</th>\n",
       "      <td>Property_Area</td>\n",
       "      <td>True</td>\n",
       "    </tr>\n",
       "    <tr>\n",
       "      <th>0</th>\n",
       "      <td>Gender</td>\n",
       "      <td>False</td>\n",
       "    </tr>\n",
       "    <tr>\n",
       "      <th>1</th>\n",
       "      <td>Married</td>\n",
       "      <td>False</td>\n",
       "    </tr>\n",
       "    <tr>\n",
       "      <th>2</th>\n",
       "      <td>Dependents</td>\n",
       "      <td>False</td>\n",
       "    </tr>\n",
       "    <tr>\n",
       "      <th>3</th>\n",
       "      <td>Education</td>\n",
       "      <td>False</td>\n",
       "    </tr>\n",
       "    <tr>\n",
       "      <th>4</th>\n",
       "      <td>Self_Employed</td>\n",
       "      <td>False</td>\n",
       "    </tr>\n",
       "    <tr>\n",
       "      <th>9</th>\n",
       "      <td>Credit_History</td>\n",
       "      <td>False</td>\n",
       "    </tr>\n",
       "  </tbody>\n",
       "</table>\n",
       "</div>"
      ],
      "text/plain": [
       "          column name  feature_imp_rfe\n",
       "5     ApplicantIncome             True\n",
       "6   CoapplicantIncome             True\n",
       "7          LoanAmount             True\n",
       "8    Loan_Amount_Term             True\n",
       "10      Property_Area             True\n",
       "0              Gender            False\n",
       "1             Married            False\n",
       "2          Dependents            False\n",
       "3           Education            False\n",
       "4       Self_Employed            False\n",
       "9      Credit_History            False"
      ]
     },
     "execution_count": 166,
     "metadata": {},
     "output_type": "execute_result"
    }
   ],
   "source": [
    "df3=pd.DataFrame({'column name':dfx.columns,'feature_imp_rfe':rfe.support_})\n",
    "df3.sort_values('feature_imp_rfe',ascending=False)"
   ]
  },
  {
   "cell_type": "markdown",
   "id": "a0d3bd6a",
   "metadata": {},
   "source": [
    "# CHI-SQUARE"
   ]
  },
  {
   "cell_type": "code",
   "execution_count": 167,
   "id": "52d80c37",
   "metadata": {},
   "outputs": [],
   "source": [
    "from sklearn.feature_selection import chi2\n",
    "from sklearn.feature_selection import SelectKBest"
   ]
  },
  {
   "cell_type": "code",
   "execution_count": 168,
   "id": "43b40efa",
   "metadata": {},
   "outputs": [],
   "source": [
    "test=SelectKBest(score_func=chi2,k='all')"
   ]
  },
  {
   "cell_type": "code",
   "execution_count": 169,
   "id": "87681a24",
   "metadata": {},
   "outputs": [],
   "source": [
    "chi_cr=test.fit(cr_x,cr_y)"
   ]
  },
  {
   "cell_type": "code",
   "execution_count": 170,
   "id": "64a025fc",
   "metadata": {},
   "outputs": [
    {
     "data": {
      "text/html": [
       "<div>\n",
       "<style scoped>\n",
       "    .dataframe tbody tr th:only-of-type {\n",
       "        vertical-align: middle;\n",
       "    }\n",
       "\n",
       "    .dataframe tbody tr th {\n",
       "        vertical-align: top;\n",
       "    }\n",
       "\n",
       "    .dataframe thead th {\n",
       "        text-align: right;\n",
       "    }\n",
       "</style>\n",
       "<table border=\"1\" class=\"dataframe\">\n",
       "  <thead>\n",
       "    <tr style=\"text-align: right;\">\n",
       "      <th></th>\n",
       "      <th>column name</th>\n",
       "      <th>feature_imp_chi</th>\n",
       "    </tr>\n",
       "  </thead>\n",
       "  <tbody>\n",
       "    <tr>\n",
       "      <th>6</th>\n",
       "      <td>CoapplicantIncome</td>\n",
       "      <td>9575.131587</td>\n",
       "    </tr>\n",
       "    <tr>\n",
       "      <th>5</th>\n",
       "      <td>ApplicantIncome</td>\n",
       "      <td>2293.099334</td>\n",
       "    </tr>\n",
       "    <tr>\n",
       "      <th>9</th>\n",
       "      <td>Credit_History</td>\n",
       "      <td>57.332754</td>\n",
       "    </tr>\n",
       "    <tr>\n",
       "      <th>7</th>\n",
       "      <td>LoanAmount</td>\n",
       "      <td>50.599832</td>\n",
       "    </tr>\n",
       "    <tr>\n",
       "      <th>8</th>\n",
       "      <td>Loan_Amount_Term</td>\n",
       "      <td>22.099631</td>\n",
       "    </tr>\n",
       "    <tr>\n",
       "      <th>10</th>\n",
       "      <td>Property_Area</td>\n",
       "      <td>10.160327</td>\n",
       "    </tr>\n",
       "    <tr>\n",
       "      <th>1</th>\n",
       "      <td>Married</td>\n",
       "      <td>2.815784</td>\n",
       "    </tr>\n",
       "    <tr>\n",
       "      <th>3</th>\n",
       "      <td>Education</td>\n",
       "      <td>1.151304</td>\n",
       "    </tr>\n",
       "    <tr>\n",
       "      <th>4</th>\n",
       "      <td>Self_Employed</td>\n",
       "      <td>0.905537</td>\n",
       "    </tr>\n",
       "    <tr>\n",
       "      <th>2</th>\n",
       "      <td>Dependents</td>\n",
       "      <td>0.226101</td>\n",
       "    </tr>\n",
       "    <tr>\n",
       "      <th>0</th>\n",
       "      <td>Gender</td>\n",
       "      <td>0.163170</td>\n",
       "    </tr>\n",
       "  </tbody>\n",
       "</table>\n",
       "</div>"
      ],
      "text/plain": [
       "          column name  feature_imp_chi\n",
       "6   CoapplicantIncome      9575.131587\n",
       "5     ApplicantIncome      2293.099334\n",
       "9      Credit_History        57.332754\n",
       "7          LoanAmount        50.599832\n",
       "8    Loan_Amount_Term        22.099631\n",
       "10      Property_Area        10.160327\n",
       "1             Married         2.815784\n",
       "3           Education         1.151304\n",
       "4       Self_Employed         0.905537\n",
       "2          Dependents         0.226101\n",
       "0              Gender         0.163170"
      ]
     },
     "execution_count": 170,
     "metadata": {},
     "output_type": "execute_result"
    }
   ],
   "source": [
    "df4=pd.DataFrame({'column name':dfx.columns,'feature_imp_chi':chi_cr.scores_})\n",
    "df4.sort_values('feature_imp_chi',ascending=False)"
   ]
  },
  {
   "cell_type": "code",
   "execution_count": null,
   "id": "769e7c8e",
   "metadata": {},
   "outputs": [],
   "source": []
  },
  {
   "cell_type": "code",
   "execution_count": null,
   "id": "829c4094",
   "metadata": {},
   "outputs": [],
   "source": []
  }
 ],
 "metadata": {
  "kernelspec": {
   "display_name": "Python 3",
   "language": "python",
   "name": "python3"
  },
  "language_info": {
   "codemirror_mode": {
    "name": "ipython",
    "version": 3
   },
   "file_extension": ".py",
   "mimetype": "text/x-python",
   "name": "python",
   "nbconvert_exporter": "python",
   "pygments_lexer": "ipython3",
   "version": "3.8.8"
  }
 },
 "nbformat": 4,
 "nbformat_minor": 5
}
